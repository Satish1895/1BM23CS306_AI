{
  "nbformat": 4,
  "nbformat_minor": 0,
  "metadata": {
    "colab": {
      "provenance": [],
      "authorship_tag": "ABX9TyOem8MzWjajbBasI/ifumEC",
      "include_colab_link": true
    },
    "kernelspec": {
      "name": "python3",
      "display_name": "Python 3"
    },
    "language_info": {
      "name": "python"
    }
  },
  "cells": [
    {
      "cell_type": "markdown",
      "metadata": {
        "id": "view-in-github",
        "colab_type": "text"
      },
      "source": [
        "<a href=\"https://colab.research.google.com/github/Satish1895/1BM23CS306_AI/blob/main/Hillclimbing.ipynb\" target=\"_parent\"><img src=\"https://colab.research.google.com/assets/colab-badge.svg\" alt=\"Open In Colab\"/></a>"
      ]
    },
    {
      "cell_type": "code",
      "execution_count": 13,
      "metadata": {
        "colab": {
          "base_uri": "https://localhost:8080/"
        },
        "id": "9TqnoWyM5h-L",
        "outputId": "763cb696-6af2-4b4e-a4d4-9acfe88e4b6e"
      },
      "outputs": [
        {
          "output_type": "stream",
          "name": "stdout",
          "text": [
            "Enter the number of queens (N): 4\n",
            "Enter the initial state as 4 integers (0 to 3) separated by spaces:\n",
            "2 0 3 1\n",
            "Step 0: State = [2, 0, 3, 1], Cost = 0\n",
            "\n",
            "Neighbors and their costs:\n",
            "   [0, 0, 3, 1] -> Cost = 1\n",
            "   [1, 0, 3, 1] -> Cost = 3\n",
            "   [3, 0, 3, 1] -> Cost = 1\n",
            "   [2, 1, 3, 1] -> Cost = 2\n",
            "   [2, 2, 3, 1] -> Cost = 2\n",
            "   [2, 3, 3, 1] -> Cost = 3\n",
            "   [2, 0, 0, 1] -> Cost = 3\n",
            "   [2, 0, 1, 1] -> Cost = 2\n",
            "   [2, 0, 2, 1] -> Cost = 2\n",
            "   [2, 0, 3, 0] -> Cost = 1\n",
            "   [2, 0, 3, 2] -> Cost = 3\n",
            "   [2, 0, 3, 3] -> Cost = 1\n",
            "\n",
            "No better neighbor found. Algorithm stops.\n",
            "\n",
            "Satish G K - 1BM23CS306\n"
          ]
        }
      ],
      "source": [
        "# Hill Climbing for N-Queens with full trace for Observation Book\n",
        "\n",
        "# Heuristic: number of attacking pairs\n",
        "def calculate_cost(state):\n",
        "    cost = 0\n",
        "    n = len(state)\n",
        "    for i in range(n):\n",
        "        for j in range(i + 1, n):\n",
        "            if state[i] == state[j] or abs(state[i] - state[j]) == abs(i - j):\n",
        "                cost += 1\n",
        "    return cost\n",
        "\n",
        "# Generate neighbors (move one queen in a column to a different row)\n",
        "def generate_neighbors(state):\n",
        "    neighbors = []\n",
        "    n = len(state)\n",
        "    for col in range(n):\n",
        "        for row in range(n):\n",
        "            if state[col] != row:  # move queen\n",
        "                new_state = list(state)\n",
        "                new_state[col] = row\n",
        "                neighbors.append(new_state)\n",
        "    return neighbors\n",
        "\n",
        "def hill_climbing(initial_state):\n",
        "    current = initial_state\n",
        "    current_cost = calculate_cost(current)\n",
        "    step = 0\n",
        "\n",
        "    print(f\"Step {step}: State = {current}, Cost = {current_cost}\")\n",
        "\n",
        "    while True:\n",
        "        neighbors = generate_neighbors(current)\n",
        "        neighbor_costs = [(n, calculate_cost(n)) for n in neighbors]\n",
        "\n",
        "        # Print state space for this step\n",
        "        print(\"\\nNeighbors and their costs:\")\n",
        "        for n, c in neighbor_costs:\n",
        "            print(f\"   {n} -> Cost = {c}\")\n",
        "\n",
        "        # Pick the best neighbor (lowest cost)\n",
        "        best_neighbor, best_cost = min(neighbor_costs, key=lambda x: x[1])\n",
        "\n",
        "        if best_cost >= current_cost:\n",
        "            print(\"\\nNo better neighbor found. Algorithm stops.\")\n",
        "            break\n",
        "\n",
        "        # Move to better state\n",
        "        step += 1\n",
        "        current, current_cost = best_neighbor, best_cost\n",
        "        print(f\"\\nStep {step}: Move to {current}, Cost = {current_cost}\")\n",
        "\n",
        "        if current_cost == 0:\n",
        "            print(\"\\nGoal reached! Solution found.\")\n",
        "            break\n",
        "\n",
        "def get_user_initial_state(n):\n",
        "    \"\"\"\n",
        "    Get initial state input from user.\n",
        "    \"\"\"\n",
        "    while True:\n",
        "        user_input = input(f\"Enter the initial state as {n} integers (0 to {n-1}) separated by spaces:\\n\")\n",
        "        parts = user_input.strip().split()\n",
        "        if len(parts) != n:\n",
        "            print(f\"Error: Please enter exactly {n} integers.\")\n",
        "            continue\n",
        "\n",
        "        try:\n",
        "            state = [int(x) for x in parts]\n",
        "        except ValueError:\n",
        "            print(\"Error: Please enter valid integers.\")\n",
        "            continue\n",
        "\n",
        "        if any(row < 0 or row >= n for row in state):\n",
        "            print(f\"Error: Each integer must be between 0 and {n-1}.\")\n",
        "            continue\n",
        "\n",
        "        return state\n",
        "\n",
        "if __name__ == \"__main__\":\n",
        "    n = int(input(\"Enter the number of queens (N): \"))\n",
        "    initial_state = get_user_initial_state(n)\n",
        "    hill_climbing(initial_state)\n",
        "\n",
        "    print(\"\\nSatish G K - 1BM23CS306\")\n"
      ]
    }
  ]
}