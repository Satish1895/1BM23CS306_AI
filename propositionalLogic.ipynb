{
  "nbformat": 4,
  "nbformat_minor": 0,
  "metadata": {
    "colab": {
      "provenance": [],
      "authorship_tag": "ABX9TyMETStxwUu2rcKNk0DCM2Xj",
      "include_colab_link": true
    },
    "kernelspec": {
      "name": "python3",
      "display_name": "Python 3"
    },
    "language_info": {
      "name": "python"
    }
  },
  "cells": [
    {
      "cell_type": "markdown",
      "metadata": {
        "id": "view-in-github",
        "colab_type": "text"
      },
      "source": [
        "<a href=\"https://colab.research.google.com/github/Satish1895/1BM23CS306_AI/blob/main/propositionalLogic.ipynb\" target=\"_parent\"><img src=\"https://colab.research.google.com/assets/colab-badge.svg\" alt=\"Open In Colab\"/></a>"
      ]
    },
    {
      "cell_type": "code",
      "source": [
        "import itertools\n",
        "import pandas as pd\n",
        "from tabulate import tabulate\n",
        "import re\n",
        "\n",
        "# Helper: convert booleans to T/F\n",
        "def tf(val):\n",
        "    return \"T\" if val else \"F\"\n",
        "\n",
        "# Replace logical symbols (∨, ∧, ¬) with Python equivalents\n",
        "def translate(expr: str) -> str:\n",
        "    return (\n",
        "        expr.replace(\"∨\", \" or \")\n",
        "            .replace(\"∧\", \" and \")\n",
        "            .replace(\"¬\", \" not \")\n",
        "    )\n",
        "\n",
        "# === Take KB and α (query) from user ===\n",
        "kb_expr = input(\"Enter your Knowledge Base (use ∧, ∨, ¬): \")\n",
        "alpha_expr = input(\"Enter your α (query) (use ∧, ∨, ¬): \")\n",
        "\n",
        "# Translate to Python syntax\n",
        "kb_py = translate(kb_expr)\n",
        "alpha_py = translate(alpha_expr)\n",
        "\n",
        "# === Detect variables dynamically (any single letter, uppercase/lowercase) ===\n",
        "vars_in_expr = sorted(set(re.findall(r\"\\b[a-zA-Z]\\b\", kb_expr + alpha_expr)))\n",
        "\n",
        "if not vars_in_expr:\n",
        "    raise ValueError(\"No variables detected. Please use single letters like A, b, C...\")\n",
        "\n",
        "# Generate truth table\n",
        "rows = []\n",
        "for values in itertools.product([False, True], repeat=len(vars_in_expr)):\n",
        "    local_vars = dict(zip(vars_in_expr, values))\n",
        "    kb_val = eval(kb_py, {}, local_vars)\n",
        "    alpha_val = eval(alpha_py, {}, local_vars)\n",
        "\n",
        "    row = {var: tf(val) for var, val in local_vars.items()}\n",
        "    row[\"KB\"] = tf(kb_val)\n",
        "    row[f\"α = {alpha_expr}\"] = tf(alpha_val)\n",
        "    rows.append(row)\n",
        "\n",
        "# Convert to DataFrame\n",
        "df = pd.DataFrame(rows)\n",
        "\n",
        "# Full truth table\n",
        "print(\"\\n=== Full Truth Table ===\")\n",
        "print(tabulate(df, headers=\"keys\", tablefmt=\"fancy_grid\", showindex=False))\n",
        "\n",
        "# Filtered truth table (only KB = T)\n",
        "filtered_df = df[df[\"KB\"] == \"T\"]\n",
        "\n",
        "print(\"\\n=== Rows where KB is True ===\")\n",
        "if not filtered_df.empty:\n",
        "    print(tabulate(filtered_df, headers=\"keys\", tablefmt=\"fancy_grid\", showindex=False))\n",
        "else:\n",
        "    print(\"No rows where KB is True (KB is unsatisfiable).\")\n",
        "\n",
        "# Entailment check\n",
        "query_col = f\"α = {alpha_expr}\"\n",
        "entails = all(filtered_df[query_col] == \"T\") if not filtered_df.empty else True\n",
        "print(f\"\\nDoes KB entail α ({alpha_expr})? ->\", \"Yes\" if entails else \"No\")\n",
        "print(\"Satish G K - 1BM23CS306\\n\")\n"
      ],
      "metadata": {
        "colab": {
          "base_uri": "https://localhost:8080/"
        },
        "id": "SoOH4z-p2HVM",
        "outputId": "a2abb079-d753-44a4-fec9-9d8ee5edb673"
      },
      "execution_count": 12,
      "outputs": [
        {
          "output_type": "stream",
          "name": "stdout",
          "text": [
            "Enter your Knowledge Base (use ∧, ∨, ¬): (a or c) and (b or not c)\n",
            "Enter your α (query) (use ∧, ∨, ¬): a or b\n",
            "\n",
            "=== Full Truth Table ===\n",
            "╒═════╤═════╤═════╤══════╤══════════════╕\n",
            "│ a   │ b   │ c   │ KB   │ α = a or b   │\n",
            "╞═════╪═════╪═════╪══════╪══════════════╡\n",
            "│ F   │ F   │ F   │ F    │ F            │\n",
            "├─────┼─────┼─────┼──────┼──────────────┤\n",
            "│ F   │ F   │ T   │ F    │ F            │\n",
            "├─────┼─────┼─────┼──────┼──────────────┤\n",
            "│ F   │ T   │ F   │ F    │ T            │\n",
            "├─────┼─────┼─────┼──────┼──────────────┤\n",
            "│ F   │ T   │ T   │ T    │ T            │\n",
            "├─────┼─────┼─────┼──────┼──────────────┤\n",
            "│ T   │ F   │ F   │ T    │ T            │\n",
            "├─────┼─────┼─────┼──────┼──────────────┤\n",
            "│ T   │ F   │ T   │ F    │ T            │\n",
            "├─────┼─────┼─────┼──────┼──────────────┤\n",
            "│ T   │ T   │ F   │ T    │ T            │\n",
            "├─────┼─────┼─────┼──────┼──────────────┤\n",
            "│ T   │ T   │ T   │ T    │ T            │\n",
            "╘═════╧═════╧═════╧══════╧══════════════╛\n",
            "\n",
            "=== Rows where KB is True ===\n",
            "╒═════╤═════╤═════╤══════╤══════════════╕\n",
            "│ a   │ b   │ c   │ KB   │ α = a or b   │\n",
            "╞═════╪═════╪═════╪══════╪══════════════╡\n",
            "│ F   │ T   │ T   │ T    │ T            │\n",
            "├─────┼─────┼─────┼──────┼──────────────┤\n",
            "│ T   │ F   │ F   │ T    │ T            │\n",
            "├─────┼─────┼─────┼──────┼──────────────┤\n",
            "│ T   │ T   │ F   │ T    │ T            │\n",
            "├─────┼─────┼─────┼──────┼──────────────┤\n",
            "│ T   │ T   │ T   │ T    │ T            │\n",
            "╘═════╧═════╧═════╧══════╧══════════════╛\n",
            "\n",
            "Does KB entail α (a or b)? -> Yes\n",
            "Satish G K - 1BM23CS306\n",
            "\n"
          ]
        }
      ]
    }
  ]
}