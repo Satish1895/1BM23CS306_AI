{
  "nbformat": 4,
  "nbformat_minor": 0,
  "metadata": {
    "colab": {
      "provenance": [],
      "authorship_tag": "ABX9TyPTmqoQqHWe2eQUJh7PI7bs",
      "include_colab_link": true
    },
    "kernelspec": {
      "name": "python3",
      "display_name": "Python 3"
    },
    "language_info": {
      "name": "python"
    }
  },
  "cells": [
    {
      "cell_type": "markdown",
      "metadata": {
        "id": "view-in-github",
        "colab_type": "text"
      },
      "source": [
        "<a href=\"https://colab.research.google.com/github/Satish1895/1BM23CS306_AI/blob/main/SimulatedAnnealing.ipynb\" target=\"_parent\"><img src=\"https://colab.research.google.com/assets/colab-badge.svg\" alt=\"Open In Colab\"/></a>"
      ]
    },
    {
      "cell_type": "code",
      "execution_count": 1,
      "metadata": {
        "id": "Qp7jJMBm9rZC",
        "outputId": "608cba23-1a6c-4a1b-f7f9-eb0306b406f8",
        "colab": {
          "base_uri": "https://localhost:8080/"
        }
      },
      "outputs": [
        {
          "output_type": "stream",
          "name": "stdout",
          "text": [
            "The best position found: [5, 0, 4, 1, 7, 2, 6, 3]\n",
            "cost = 0\n",
            "Satish G K - 1BM23CS306\n"
          ]
        }
      ],
      "source": [
        "import random\n",
        "import math\n",
        "\n",
        "# Heuristic: number of attacking pairs\n",
        "def calculate_cost(state):\n",
        "    cost = 0\n",
        "    n = len(state)\n",
        "    for i in range(n):\n",
        "        for j in range(i + 1, n):\n",
        "            if state[i] == state[j] or abs(state[i] - state[j]) == abs(i - j):\n",
        "                cost += 1\n",
        "    return cost\n",
        "\n",
        "# Generate a random neighbor\n",
        "def get_random_neighbor(state):\n",
        "    n = len(state)\n",
        "    new_state = list(state)\n",
        "    col = random.randint(0, n - 1)   # pick random column\n",
        "    row = random.randint(0, n - 1)   # new row\n",
        "    new_state[col] = row\n",
        "    return new_state\n",
        "\n",
        "def simulated_annealing(n=8, max_iterations=10000, initial_temp=100.0, cooling_rate=0.99):\n",
        "    # start with a random state\n",
        "    current = [random.randint(0, n - 1) for _ in range(n)]\n",
        "    current_cost = calculate_cost(current)\n",
        "    best = current\n",
        "    best_cost = current_cost\n",
        "    temperature = initial_temp\n",
        "\n",
        "    for _ in range(max_iterations):\n",
        "        if current_cost == 0:\n",
        "            break  # found solution\n",
        "\n",
        "        neighbor = get_random_neighbor(current)\n",
        "        neighbor_cost = calculate_cost(neighbor)\n",
        "        delta = neighbor_cost - current_cost\n",
        "\n",
        "        # Decide whether to accept the neighbor\n",
        "        if delta < 0 or random.random() < math.exp(-delta / temperature):\n",
        "            current, current_cost = neighbor, neighbor_cost\n",
        "\n",
        "            # Update best if improved\n",
        "            if current_cost < best_cost:\n",
        "                best, best_cost = current, current_cost\n",
        "\n",
        "        temperature *= cooling_rate\n",
        "        if temperature < 1e-6:\n",
        "            break\n",
        "\n",
        "    return best, best_cost\n",
        "\n",
        "\n",
        "# Run simulated annealing for 8 queens\n",
        "best_state, best_cost = simulated_annealing()\n",
        "\n",
        "print(\"The best position found:\", best_state)\n",
        "print(\"cost =\", best_cost)\n",
        "\n",
        "print(\"Satish G K - 1BM23CS306\")"
      ]
    }
  ]
}